{
 "cells": [
  {
   "cell_type": "code",
   "execution_count": 1,
   "id": "5bff653e",
   "metadata": {},
   "outputs": [
    {
     "name": "stdout",
     "output_type": "stream",
     "text": [
      "Collecting git+https://github.com/ParkhomenkoDV/thermodynamics.git@master\n",
      "  Cloning https://github.com/ParkhomenkoDV/thermodynamics.git (to revision master) to /private/var/folders/mk/r_rkj6991c17fkq5ny4k51080000gn/T/pip-req-build-6apm9v9p\n",
      "  Running command git clone --filter=blob:none --quiet https://github.com/ParkhomenkoDV/thermodynamics.git /private/var/folders/mk/r_rkj6991c17fkq5ny4k51080000gn/T/pip-req-build-6apm9v9p\n",
      "  Resolved https://github.com/ParkhomenkoDV/thermodynamics.git to commit 1c9c70a7a4cff55ab715cc2cf18b6af94c746b4e\n",
      "  Installing build dependencies ... \u001b[?25ldone\n",
      "\u001b[?25h  Getting requirements to build wheel ... \u001b[?25ldone\n",
      "\u001b[?25h  Preparing metadata (pyproject.toml) ... \u001b[?25ldone\n",
      "\u001b[?25hRequirement already satisfied: numpy in /Users/daniilandryushin/Projects/thermodynamics/.venv/lib/python3.12/site-packages (from thermodynamics==2025.10.24.15) (2.3.2)\n",
      "Requirement already satisfied: scipy in /Users/daniilandryushin/Projects/thermodynamics/.venv/lib/python3.12/site-packages (from thermodynamics==2025.10.24.15) (1.16.1)\n",
      "Collecting mathematics@ git+https://github.com/ParkhomenkoDV/mathematics.git@master (from thermodynamics==2025.10.24.15)\n",
      "  Cloning https://github.com/ParkhomenkoDV/mathematics.git (to revision master) to /private/var/folders/mk/r_rkj6991c17fkq5ny4k51080000gn/T/pip-install-tkm4j4ki/mathematics_192b2037260a419ebc150118cea1bb33\n",
      "  Running command git clone --filter=blob:none --quiet https://github.com/ParkhomenkoDV/mathematics.git /private/var/folders/mk/r_rkj6991c17fkq5ny4k51080000gn/T/pip-install-tkm4j4ki/mathematics_192b2037260a419ebc150118cea1bb33\n",
      "  Resolved https://github.com/ParkhomenkoDV/mathematics.git to commit fbac3749c7b301477d4fa04a7f8bebca6880448d\n",
      "  Installing build dependencies ... \u001b[?25ldone\n",
      "\u001b[?25h  Getting requirements to build wheel ... \u001b[?25ldone\n",
      "\u001b[?25h  Preparing metadata (pyproject.toml) ... \u001b[?25ldone\n",
      "\u001b[?25hRequirement already satisfied: pytest in /Users/daniilandryushin/Projects/thermodynamics/.venv/lib/python3.12/site-packages (from mathematics@ git+https://github.com/ParkhomenkoDV/mathematics.git@master->thermodynamics==2025.10.24.15) (8.4.1)\n",
      "Requirement already satisfied: iniconfig>=1 in /Users/daniilandryushin/Projects/thermodynamics/.venv/lib/python3.12/site-packages (from pytest->mathematics@ git+https://github.com/ParkhomenkoDV/mathematics.git@master->thermodynamics==2025.10.24.15) (2.1.0)\n",
      "Requirement already satisfied: packaging>=20 in /Users/daniilandryushin/Projects/thermodynamics/.venv/lib/python3.12/site-packages (from pytest->mathematics@ git+https://github.com/ParkhomenkoDV/mathematics.git@master->thermodynamics==2025.10.24.15) (25.0)\n",
      "Requirement already satisfied: pluggy<2,>=1.5 in /Users/daniilandryushin/Projects/thermodynamics/.venv/lib/python3.12/site-packages (from pytest->mathematics@ git+https://github.com/ParkhomenkoDV/mathematics.git@master->thermodynamics==2025.10.24.15) (1.6.0)\n",
      "Requirement already satisfied: pygments>=2.7.2 in /Users/daniilandryushin/Projects/thermodynamics/.venv/lib/python3.12/site-packages (from pytest->mathematics@ git+https://github.com/ParkhomenkoDV/mathematics.git@master->thermodynamics==2025.10.24.15) (2.19.2)\n",
      "Building wheels for collected packages: thermodynamics, mathematics\n",
      "  Building wheel for thermodynamics (pyproject.toml) ... \u001b[?25ldone\n",
      "\u001b[?25h  Created wheel for thermodynamics: filename=thermodynamics-2025.10.24.15-py3-none-any.whl size=13649 sha256=5695a684a1f803339e472ec4dde65377e48f17115f529b9df9ac95698949178a\n",
      "  Stored in directory: /private/var/folders/mk/r_rkj6991c17fkq5ny4k51080000gn/T/pip-ephem-wheel-cache-uqskswfr/wheels/07/54/3f/c20015e22a2162b5d663edc6bed234a859c7f5cb839eae2925\n",
      "  Building wheel for mathematics (pyproject.toml) ... \u001b[?25ldone\n",
      "\u001b[?25h  Created wheel for mathematics: filename=mathematics-2025.10.24.15-py3-none-any.whl size=9800 sha256=8b534b0805d27a61a91ff582b13c90b311fdef309307e56128b7f6269dd6e9a2\n",
      "  Stored in directory: /private/var/folders/mk/r_rkj6991c17fkq5ny4k51080000gn/T/pip-ephem-wheel-cache-uqskswfr/wheels/93/a5/63/9fdb8fd14c7c5d1a3311f854f9da83a4c623beaf489544aeb3\n",
      "Successfully built thermodynamics mathematics\n",
      "Installing collected packages: mathematics, thermodynamics\n",
      "\u001b[2K  Attempting uninstall: mathematics\n",
      "\u001b[2K    Found existing installation: mathematics 2025.10.14.17\n",
      "\u001b[2K    Uninstalling mathematics-2025.10.14.17:\n",
      "\u001b[2K      Successfully uninstalled mathematics-2025.10.14.17\n",
      "\u001b[2K  Attempting uninstall: thermodynamics\n",
      "\u001b[2K    Found existing installation: thermodynamics 2025.10.14.17\n",
      "\u001b[2K    Uninstalling thermodynamics-2025.10.14.17:\n",
      "\u001b[2K      Successfully uninstalled thermodynamics-2025.10.14.17\n",
      "\u001b[2K   \u001b[90m━━━━━━━━━━━━━━━━━━━━━━━━━━━━━━━━━━━━━━━━\u001b[0m \u001b[32m2/2\u001b[0m [thermodynamics]\n",
      "\u001b[1A\u001b[2KSuccessfully installed mathematics-2025.10.24.15 thermodynamics-2025.10.24.15\n",
      "Note: you may need to restart the kernel to use updated packages.\n"
     ]
    }
   ],
   "source": [
    "%pip install --upgrade git+https://github.com/ParkhomenkoDV/thermodynamics.git@master"
   ]
  },
  {
   "cell_type": "code",
   "execution_count": 2,
   "id": "4d14cd6a",
   "metadata": {},
   "outputs": [],
   "source": [
    "import numpy as np\n",
    "import matplotlib.pyplot as plt\n",
    "from thermodynamics import gas_const, heat_capacity_at_constant_pressure"
   ]
  },
  {
   "cell_type": "code",
   "execution_count": 3,
   "id": "10df7f89",
   "metadata": {},
   "outputs": [
    {
     "data": {
      "image/png": "[encoded data removed]",
      "text/plain": [
       "<Figure size 640x480 with 1 Axes>"
      ]
     },
     "metadata": {},
     "output_type": "display_data"
    }
   ],
   "source": [
    "eo = np.linspace(0, 5)\n",
    "\n",
    "plt.plot(eo, [gas_const(\"air\") for _ in eo], label=\"air\")\n",
    "plt.plot(eo, [gas_const(\"exhaust\", eo, fuel=\"kerosene\") for eo in eo], label=\"kerosene\")\n",
    "\n",
    "plt.legend()\n",
    "plt.grid()\n",
    "plt.show()"
   ]
  },
  {
   "cell_type": "code",
   "execution_count": 1,
   "id": "f4bc7c44",
   "metadata": {},
   "outputs": [
    {
     "ename": "NameError",
     "evalue": "name 'np' is not defined",
     "output_type": "error",
     "traceback": [
      "\u001b[31m---------------------------------------------------------------------------\u001b[39m",
      "\u001b[31mNameError\u001b[39m                                 Traceback (most recent call last)",
      "\u001b[36mCell\u001b[39m\u001b[36m \u001b[39m\u001b[32mIn[1]\u001b[39m\u001b[32m, line 1\u001b[39m\n\u001b[32m----> \u001b[39m\u001b[32m1\u001b[39m temperature = \u001b[43mnp\u001b[49m.linspace(\u001b[32m0\u001b[39m, \u001b[32m2000\u001b[39m, \u001b[32m1000\u001b[39m)\n\u001b[32m      2\u001b[39m fuel = \u001b[33m\"\u001b[39m\u001b[33mkerosene\u001b[39m\u001b[33m\"\u001b[39m\n\u001b[32m      4\u001b[39m plt.figure(figsize=(\u001b[32m12\u001b[39m, \u001b[32m8\u001b[39m))\n",
      "\u001b[31mNameError\u001b[39m: name 'np' is not defined"
     ]
    }
   ],
   "source": [
    "temperature = np.linspace(0, 2000, 1000)\n",
    "fuel = \"kerosene\"\n",
    "\n",
    "plt.figure(figsize=(12, 8))\n",
    "\n",
    "plt.plot(temperature, [heat_capacity_at_constant_pressure(\"air\", t) for t in temperature], color=\"blue\", label=\"air\")\n",
    "plt.plot(temperature, [heat_capacity_at_constant_pressure(\"exhaust\", t, fuel=fuel) for t in temperature], color=\"red\", label=\"exhaust eo=nan\")  # ЦИАМ\n",
    "plt.plot(temperature, [heat_capacity_at_constant_pressure(\"exhaust\", t, excess_oxidizing=1, fuel=fuel) for t in temperature], color=\"red\", label=\"exhaust eo=1\")\n",
    "for eo in range(5):\n",
    "    plt.plot(temperature, [heat_capacity_at_constant_pressure(\"exhaust\", t, excess_oxidizing=eo, fuel=fuel) for t in temperature], label=f\"exhaust {eo=}\")\n",
    "\n",
    "plt.legend()\n",
    "plt.grid()\n",
    "plt.show()"
   ]
  },
  {
   "cell_type": "code",
   "execution_count": null,
   "id": "db1fd1d3",
   "metadata": {},
   "outputs": [],
   "source": []
  }
 ],
 "metadata": {
  "kernelspec": {
   "display_name": ".venv",
   "language": "python",
   "name": "python3"
  },
  "language_info": {
   "codemirror_mode": {
    "name": "ipython",
    "version": 3
   },
   "file_extension": ".py",
   "mimetype": "text/x-python",
   "name": "python",
   "nbconvert_exporter": "python",
   "pygments_lexer": "ipython3",
   "version": "3.12.10"
  }
 },
 "nbformat": 4,
 "nbformat_minor": 5
}
